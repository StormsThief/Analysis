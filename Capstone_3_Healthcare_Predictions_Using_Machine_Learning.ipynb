{
  "nbformat": 4,
  "nbformat_minor": 0,
  "metadata": {
    "colab": {
      "provenance": []
    },
    "kernelspec": {
      "name": "python3",
      "display_name": "Python 3"
    },
    "language_info": {
      "name": "python"
    }
  },
  "cells": [
    {
      "cell_type": "code",
      "execution_count": 30,
      "metadata": {
        "id": "4mMFFKV5o8Tw"
      },
      "outputs": [],
      "source": [
        "# Healthcare Predictions Using Machine Learning\n",
        "# In this project, we aim to predict healthcare outcomes based on patient data, such as diagnosis, medications, and hospital stay duration."
      ]
    },
    {
      "cell_type": "code",
      "source": [
        "# Connect to dataset in Google Drive\n",
        "from google.colab import drive\n",
        "drive.mount('/content/drive')"
      ],
      "metadata": {
        "colab": {
          "base_uri": "https://localhost:8080/"
        },
        "id": "2-HATrCjpIiX",
        "outputId": "dd33720f-00ad-46ff-ce4e-1fefd6f30d71"
      },
      "execution_count": 31,
      "outputs": [
        {
          "output_type": "stream",
          "name": "stdout",
          "text": [
            "Drive already mounted at /content/drive; to attempt to forcibly remount, call drive.mount(\"/content/drive\", force_remount=True).\n"
          ]
        }
      ]
    },
    {
      "cell_type": "code",
      "source": [
        "# Import necessary libraries\n",
        "\n",
        "import pandas as pd\n",
        "import matplotlib.pyplot as plt\n",
        "import seaborn as sns\n",
        "import statsmodels.api as sm\n",
        "from scipy.stats import chi2_contingency, chi2 # Only import chi2_contingency and chi2 once\n",
        "from sklearn.model_selection import train_test_split\n",
        "from sklearn.ensemble import RandomForestClassifier\n",
        "from sklearn.metrics import accuracy_score, confusion_matrix, classification_report\n",
        "\n",
        "# Import the scipy.stats module to fix the AttributeError\n",
        "import scipy.stats as stats\n",
        "\n",
        "\n",
        "# Load the dataset\n",
        "df = pd.read_csv('/content/drive/My Drive/Colab Datasets/healthcare_prediction_dataset.csv')\n"
      ],
      "metadata": {
        "id": "LX9Q5S-lpA8n"
      },
      "execution_count": 32,
      "outputs": []
    },
    {
      "cell_type": "code",
      "source": [
        "# Step 1: Data Cleaning and Feature Engineering\n",
        "\n",
        "# Check for missing values\n",
        "print(\"Missing values in each column:\")\n",
        "print(df.isnull().sum())\n",
        "\n",
        "# Convert 'Admission Date' and 'Discharge Date' to datetime format\n",
        "df['Admission Date'] = pd.to_datetime(df['Admission Date'])\n",
        "df['Discharge Date'] = pd.to_datetime(df['Discharge Date'])\n",
        "\n",
        "# Create a new column 'Hospital Stay Duration' (in days)\n",
        "df['Hospital Stay Duration'] = (df['Discharge Date'] - df['Admission Date']).dt.days\n",
        "\n",
        "# Drop unnecessary columns\n",
        "df = df.drop(columns=['Patient Name', 'Room Assigned', 'Attending Doctor'])\n",
        "\n",
        "# Display the cleaned DataFrame\n",
        "print(\"\\nData after cleaning:\")\n",
        "print(df.head())"
      ],
      "metadata": {
        "colab": {
          "base_uri": "https://localhost:8080/"
        },
        "id": "9oiYtWk9pUw_",
        "outputId": "76805cdb-ed8a-4ed9-8053-608721cc57ad"
      },
      "execution_count": 33,
      "outputs": [
        {
          "output_type": "stream",
          "name": "stdout",
          "text": [
            "Missing values in each column:\n",
            "Patient Name             0\n",
            "Age                      0\n",
            "Gender                   0\n",
            "Blood Type               0\n",
            "Medical Diagnosis        0\n",
            "Admission Date           0\n",
            "Attending Doctor         0\n",
            "Healthcare Facility      0\n",
            "Insurance Company        0\n",
            "Billed Amount            0\n",
            "Room Assigned            0\n",
            "Type of Admission        0\n",
            "Discharge Date           0\n",
            "Prescribed Medication    0\n",
            "Test Outcome             0\n",
            "dtype: int64\n",
            "\n",
            "Data after cleaning:\n",
            "   Age  Gender Blood Type Medical Diagnosis Admission Date  \\\n",
            "0   30    Male         B-            Cancer     2024-01-31   \n",
            "1   62    Male         A+           Obesity     2019-08-20   \n",
            "2   76  Female         A-           Obesity     2022-09-22   \n",
            "3   28  Female         O+          Diabetes     2020-11-18   \n",
            "4   43  Female        AB+            Cancer     2022-09-19   \n",
            "\n",
            "          Healthcare Facility Insurance Company  Billed Amount  \\\n",
            "0             Sons and Miller        Blue Cross   18856.281306   \n",
            "1                     Kim Inc          Medicare   33643.327287   \n",
            "2                    Cook PLC             Aetna   27955.096079   \n",
            "3  Hernandez Rogers and Vang,          Medicare   37909.782410   \n",
            "4                 White-White             Aetna   14238.317814   \n",
            "\n",
            "  Type of Admission Discharge Date Prescribed Medication  Test Outcome  \\\n",
            "0            Urgent     2024-02-02           Paracetamol        Normal   \n",
            "1         Emergency     2019-08-26             Ibuprofen  Inconclusive   \n",
            "2         Emergency     2022-10-07               Aspirin        Normal   \n",
            "3          Elective     2020-12-18             Ibuprofen      Abnormal   \n",
            "4            Urgent     2022-10-09            Penicillin      Abnormal   \n",
            "\n",
            "   Hospital Stay Duration  \n",
            "0                       2  \n",
            "1                       6  \n",
            "2                      15  \n",
            "3                      30  \n",
            "4                      20  \n"
          ]
        }
      ]
    },
    {
      "cell_type": "code",
      "source": [
        "# Explanation:\n",
        "# In this step, we clean the data by checking for any missing values and converting date columns\n",
        "# into a format that can be easily manipulated. We also create a new column to calculate\n",
        "# the duration of hospital stays in days and remove columns that won't be useful for analysis\n",
        "# to simplify our dataset."
      ],
      "metadata": {
        "id": "9bt3-iAXqB7O"
      },
      "execution_count": 34,
      "outputs": []
    },
    {
      "cell_type": "code",
      "source": [
        "# Step 2: Prepare the Data for Modeling\n",
        "\n",
        "# Step 1: Ensure that 'Hospital Stay Duration' exists\n",
        "df['Admission Date'] = pd.to_datetime(df['Admission Date'])\n",
        "df['Discharge Date'] = pd.to_datetime(df['Discharge Date'])\n",
        "df['Hospital Stay Duration'] = (df['Discharge Date'] - df['Admission Date']).dt.days\n",
        "\n",
        "# Step 2: Create the binary variable for 'Worse Outcome'\n",
        "df['Worse Outcome Binary'] = df['Test Outcome'].apply(lambda x: 1 if x == 'Abnormal' else 0)\n",
        "\n",
        "# Step 3: Logistic regression to test the relationship between Hospital Stay Duration and Worse Outcome\n",
        "X_stay = sm.add_constant(df[['Hospital Stay Duration']])\n",
        "logit_model_stay = sm.Logit(df['Worse Outcome Binary'], X_stay)\n",
        "result_stay = logit_model_stay.fit()\n",
        "\n",
        "# Step 4: Print the summary of the logistic regression results\n",
        "print(result_stay.summary())\n",
        "\n",
        "# Step 5: Calculate the p-value using chi2.sf directly from scipy.stats\n",
        "llr_pvalue = stats.chi2.sf(result_stay.llr, result_stay.df_model)\n",
        "print(f\"LLR p-value: {llr_pvalue}\")\n"
      ],
      "metadata": {
        "colab": {
          "base_uri": "https://localhost:8080/"
        },
        "id": "PB8QflxvpY4f",
        "outputId": "2545972d-3a4c-40b7-dae2-fdfb00593dd8"
      },
      "execution_count": 35,
      "outputs": [
        {
          "output_type": "stream",
          "name": "stdout",
          "text": [
            "Optimization terminated successfully.\n",
            "         Current function value: 0.638089\n",
            "         Iterations 4\n",
            "                            Logit Regression Results                            \n",
            "================================================================================\n",
            "Dep. Variable:     Worse Outcome Binary   No. Observations:                55500\n",
            "Model:                            Logit   Df Residuals:                    55498\n",
            "Method:                             MLE   Df Model:                            1\n",
            "Date:                  Wed, 23 Oct 2024   Pseudo R-squ.:               1.159e-09\n",
            "Time:                          20:29:44   Log-Likelihood:                -35414.\n",
            "converged:                         True   LL-Null:                       -35414.\n",
            "Covariance Type:              nonrobust   LLR p-value:                    0.9928\n",
            "==========================================================================================\n",
            "                             coef    std err          z      P>|z|      [0.025      0.975]\n",
            "------------------------------------------------------------------------------------------\n",
            "const                     -0.6830      0.018    -37.041      0.000      -0.719      -0.647\n",
            "Hospital Stay Duration  9.363e-06      0.001      0.009      0.993      -0.002       0.002\n",
            "==========================================================================================\n",
            "LLR p-value: 0.9927719292802567\n"
          ]
        }
      ]
    },
    {
      "cell_type": "code",
      "source": [
        "# Explanation:\n",
        "# Here, we prepare our data for modeling by encoding categorical variables using one-hot encoding,\n",
        "# which converts categories into numerical values. We then separate our feature set (X)\n",
        "# from the target variable (y) to prepare for training the model. We also check the shapes\n",
        "# and data types to ensure everything is correctly formatted."
      ],
      "metadata": {
        "id": "Fh3r_pSLqGLO"
      },
      "execution_count": 36,
      "outputs": []
    },
    {
      "cell_type": "code",
      "source": [
        "# Step 3: Hypothesis Testing"
      ],
      "metadata": {
        "id": "3tStVBsypbSO"
      },
      "execution_count": 37,
      "outputs": []
    },
    {
      "cell_type": "code",
      "source": [
        "# Hypothesis 1: Older patients are more likely to experience abnormal test outcomes.\n",
        "\n",
        "# Step 1: Create a binary outcome variable ('1' for Abnormal, '0' for Normal/Inconclusive)\n",
        "df['Test Outcome Binary'] = df['Test Outcome'].apply(lambda x: 1 if x == 'Abnormal' else 0)\n",
        "\n",
        "# Step 2: Logistic Regression to test the relationship between Age and Test Outcome\n",
        "X_age = df[['Age']]  # Predictor variable (Age)\n",
        "X_age = sm.add_constant(X_age)  # Add a constant term to the model\n",
        "y_test_outcome = df['Test Outcome Binary']  # Response variable (binary test outcome)\n",
        "\n",
        "# Fit the logistic regression model\n",
        "logit_model = sm.Logit(y_test_outcome, X_age)\n",
        "result = logit_model.fit()\n",
        "\n",
        "# Step 3: Print the summary of the logistic regression results\n",
        "# Workaround for the scipy.stats.distributions error\n",
        "# Manually calculate and print the LLR p-value\n",
        "from scipy.stats import chi2\n",
        "llr_pvalue = chi2.sf(result.llr, result.df_model)\n",
        "\n",
        "# Instead of print(result.summary()), access individual attributes\n",
        "print(result.summary2()) # Use summary2() instead of summary()\n",
        "print(f\"LLR p-value: {llr_pvalue}\") # Manually print the calculated p-value\n",
        "\n",
        "\n",
        "# Step 4: Visualize the distribution of Age across different Test Outcomes using a boxplot\n",
        "plt.figure(figsize=(10, 6))\n",
        "sns.boxplot(x='Test Outcome', y='Age', data=df)\n",
        "plt.title('Age Distribution Across Test Outcomes')\n",
        "plt.xlabel('Test Outcome')\n",
        "plt.ylabel('Age')\n",
        "plt.show()\n"
      ],
      "metadata": {
        "colab": {
          "base_uri": "https://localhost:8080/",
          "height": 939
        },
        "id": "pB2rohgIpgYI",
        "outputId": "7e85dbb0-38f9-4d7e-95e5-42be429dcf9b"
      },
      "execution_count": 38,
      "outputs": [
        {
          "output_type": "stream",
          "name": "stdout",
          "text": [
            "Optimization terminated successfully.\n",
            "         Current function value: 0.638084\n",
            "         Iterations 4\n",
            "                           Results: Logit\n",
            "====================================================================\n",
            "Model:              Logit               Method:           MLE       \n",
            "Dependent Variable: Test Outcome Binary Pseudo R-squared: 0.000     \n",
            "Date:               2024-10-23 20:29    AIC:              70831.2804\n",
            "No. Observations:   55500               BIC:              70849.1286\n",
            "Df Model:           1                   Log-Likelihood:   -35414.   \n",
            "Df Residuals:       55498               LL-Null:          -35414.   \n",
            "Converged:          1.0000              LLR p-value:      0.46019   \n",
            "No. Iterations:     4.0000              Scale:            1.0000    \n",
            "----------------------------------------------------------------------\n",
            "             Coef.    Std.Err.      z       P>|z|     [0.025    0.975]\n",
            "----------------------------------------------------------------------\n",
            "const       -0.7003     0.0253   -27.6751   0.0000   -0.7499   -0.6507\n",
            "Age          0.0003     0.0005     0.7385   0.4602   -0.0006    0.0012\n",
            "====================================================================\n",
            "\n",
            "LLR p-value: 0.4601865217086162\n"
          ]
        },
        {
          "output_type": "display_data",
          "data": {
            "text/plain": [
              "<Figure size 1000x600 with 1 Axes>"
            ],
            "image/png": "[encoded data removed]"
          },
          "metadata": {}
        }
      ]
    },
    {
      "cell_type": "code",
      "source": [
        "# The logistic regression results indicated that age is not a significant predictor\n",
        "# of abnormal test outcomes (p-value > 0.05), suggesting that older patients are not more likely\n",
        "# to experience abnormal outcomes in this dataset."
      ],
      "metadata": {
        "id": "JdVg1qJcqvfH"
      },
      "execution_count": 39,
      "outputs": []
    },
    {
      "cell_type": "code",
      "source": [
        "# Explanation:\n",
        "# In this section, we test the hypothesis regarding age and test outcomes. We create a binary\n",
        "# outcome variable for test results and then apply logistic regression to see if there is\n",
        "# a significant relationship between age and abnormal outcomes. Additionally, we perform\n",
        "# a Chi-square test to analyze the relationship between age groups and test outcomes."
      ],
      "metadata": {
        "id": "8pBpr5WCqKiG"
      },
      "execution_count": 40,
      "outputs": []
    },
    {
      "cell_type": "code",
      "source": [
        "# Hypothesis 2: Hospital stay duration and worse outcomes\n",
        "df['Worse Outcome Binary'] = df['Test Outcome'].apply(lambda x: 1 if x == 'Abnormal' else 0)\n",
        "X_stay = sm.add_constant(df[['Hospital Stay Duration']])\n",
        "logit_model_stay = sm.Logit(df['Worse Outcome Binary'], X_stay)\n",
        "result_stay = logit_model_stay.fit()\n",
        "print(result_stay.summary())\n",
        "\n",
        "# Visualization for Hypothesis 2\n",
        "plt.figure(figsize=(10, 6))\n",
        "sns.boxplot(data=df, x='Test Outcome', y='Hospital Stay Duration')\n",
        "plt.title('Hospital Stay Duration by Test Outcome')\n",
        "plt.xlabel('Test Outcome')\n",
        "plt.ylabel('Hospital Stay Duration (days)')\n",
        "plt.show()"
      ],
      "metadata": {
        "colab": {
          "base_uri": "https://localhost:8080/",
          "height": 886
        },
        "id": "1MnzAAlgpi0n",
        "outputId": "5ce16fd6-7b73-484e-957f-9965652ba75c"
      },
      "execution_count": 41,
      "outputs": [
        {
          "output_type": "stream",
          "name": "stdout",
          "text": [
            "Optimization terminated successfully.\n",
            "         Current function value: 0.638089\n",
            "         Iterations 4\n",
            "                            Logit Regression Results                            \n",
            "================================================================================\n",
            "Dep. Variable:     Worse Outcome Binary   No. Observations:                55500\n",
            "Model:                            Logit   Df Residuals:                    55498\n",
            "Method:                             MLE   Df Model:                            1\n",
            "Date:                  Wed, 23 Oct 2024   Pseudo R-squ.:               1.159e-09\n",
            "Time:                          20:29:47   Log-Likelihood:                -35414.\n",
            "converged:                         True   LL-Null:                       -35414.\n",
            "Covariance Type:              nonrobust   LLR p-value:                    0.9928\n",
            "==========================================================================================\n",
            "                             coef    std err          z      P>|z|      [0.025      0.975]\n",
            "------------------------------------------------------------------------------------------\n",
            "const                     -0.6830      0.018    -37.041      0.000      -0.719      -0.647\n",
            "Hospital Stay Duration  9.363e-06      0.001      0.009      0.993      -0.002       0.002\n",
            "==========================================================================================\n"
          ]
        },
        {
          "output_type": "display_data",
          "data": {
            "text/plain": [
              "<Figure size 1000x600 with 1 Axes>"
            ],
            "image/png": "[encoded data removed]"
          },
          "metadata": {}
        }
      ]
    },
    {
      "cell_type": "code",
      "source": [
        "# The logistic regression on hospital stay duration also showed no significant\n",
        "# relationship with worse outcomes (p-value > 0.05). This implies that longer hospital stays\n",
        "# do not correlate with increased abnormal test results in this dataset."
      ],
      "metadata": {
        "id": "jaiVaJ9Rq5p3"
      },
      "execution_count": 42,
      "outputs": []
    },
    {
      "cell_type": "code",
      "source": [
        "# Explanation:\n",
        "# This part tests the second hypothesis regarding hospital stay duration and its association\n",
        "# with worse test outcomes. We again create a binary variable for worse outcomes and fit\n",
        "# a logistic regression model to analyze the impact of hospital stay duration."
      ],
      "metadata": {
        "id": "lo2Xyw0dqOZX"
      },
      "execution_count": 43,
      "outputs": []
    },
    {
      "cell_type": "code",
      "source": [
        "# Hypothesis 3: Medication and test outcomes\n",
        "contingency_table_medications = pd.crosstab(df['Prescribed Medication'], df['Test Outcome'])\n",
        "chi2_med, p_med, dof_med, expected_med = chi2_contingency(contingency_table_medications)\n",
        "print(f\"Chi-square test for medications and test outcomes: p-value = {p_med}\")\n",
        "\n",
        "# Visualization for Hypothesis 3\n",
        "plt.figure(figsize=(12, 8))\n",
        "medication_outcomes = df.groupby('Prescribed Medication')['Test Outcome'].value_counts().unstack()\n",
        "medication_outcomes.plot(kind='bar', stacked=True, figsize=(12, 6))\n",
        "plt.title('Test Outcomes by Medication')\n",
        "plt.xlabel('Prescribed Medication')\n",
        "plt.ylabel('Count')\n",
        "plt.show()"
      ],
      "metadata": {
        "colab": {
          "base_uri": "https://localhost:8080/",
          "height": 673
        },
        "id": "oKAdZGFpplPe",
        "outputId": "c62d49af-c4d1-4e70-f775-c2f480fe4d7e"
      },
      "execution_count": 44,
      "outputs": [
        {
          "output_type": "stream",
          "name": "stdout",
          "text": [
            "Chi-square test for medications and test outcomes: p-value = 0.8805297989370955\n"
          ]
        },
        {
          "output_type": "display_data",
          "data": {
            "text/plain": [
              "<Figure size 1200x800 with 0 Axes>"
            ]
          },
          "metadata": {}
        },
        {
          "output_type": "display_data",
          "data": {
            "text/plain": [
              "<Figure size 1200x600 with 1 Axes>"
            ],
            "image/png": "[encoded data removed]"
          },
          "metadata": {}
        }
      ]
    },
    {
      "cell_type": "code",
      "source": [
        "# The Chi-square test for medications indicated no significant association\n",
        "# with test outcomes (p-value > 0.05). Therefore, there is no evidence to support that specific\n",
        "# medications are linked to more positive test outcomes."
      ],
      "metadata": {
        "id": "wGnvyGrdq9Q1"
      },
      "execution_count": 45,
      "outputs": []
    },
    {
      "cell_type": "code",
      "source": [
        "# Explanation:\n",
        "# In this section, we investigate whether specific medications correlate with test outcomes.\n",
        "# We create a contingency table and perform a Chi-square test to determine if there is\n",
        "# a significant association between the prescribed medications and the test outcomes."
      ],
      "metadata": {
        "id": "qqcAKoYnqQqW"
      },
      "execution_count": 46,
      "outputs": []
    },
    {
      "cell_type": "code",
      "source": [
        "# Step 4: Model Training and Evaluation\n",
        "\n",
        "# Sample a smaller portion of the DataFrame\n",
        "sample_size = 27750  # Change this to the desired number of samples\n",
        "df_sample = df.sample(n=sample_size, random_state=42)  # Randomly sample rows from the DataFrame\n",
        "\n",
        "# Now use df_sample for your model training\n",
        "X = df_sample.drop(columns=['Test Outcome'])  # Drop the target variable from features\n",
        "y = df_sample['Test Outcome']                   # Assign the target variable\n",
        "\n",
        "# Convert datetime columns to numerical values (e.g., timestamps)\n",
        "X['Admission Date'] = X['Admission Date'].astype(int) / 10**9  # Convert to seconds since epoch\n",
        "X['Discharge Date'] = X['Discharge Date'].astype(int) / 10**9  # Convert to seconds since epoch\n",
        "\n",
        "# Convert categorical features to numerical using one-hot encoding\n",
        "categorical_cols = ['Gender', 'Prescribed Medication', 'Blood Type',\n",
        "                    'Any Allergies', 'Medical Diagnosis', 'Healthcare Facility',\n",
        "                    'Insurance Company', 'Type of Admission']  # Add any other categorical columns here\n",
        "valid_categorical_cols = [col for col in categorical_cols if col in X.columns]\n",
        "\n"
      ],
      "metadata": {
        "id": "2PHZostkzPUr"
      },
      "execution_count": 47,
      "outputs": []
    },
    {
      "cell_type": "code",
      "source": [
        "\n",
        "# Perform one-hot encoding on valid columns\n",
        "X = pd.get_dummies(X, columns=valid_categorical_cols)\n",
        "\n"
      ],
      "metadata": {
        "id": "n80igJMUzg3q"
      },
      "execution_count": 48,
      "outputs": []
    },
    {
      "cell_type": "code",
      "source": [
        "# Split the data into training and test sets\n",
        "X_train, X_test, y_train, y_test = train_test_split(X, y, test_size=0.3, random_state=42)"
      ],
      "metadata": {
        "id": "vo0jlMCNzwBS"
      },
      "execution_count": 49,
      "outputs": []
    },
    {
      "cell_type": "code",
      "source": [
        "# Check for NaN values\n",
        "print(\"NaN values in training features:\", X_train.isnull().sum().sum())\n",
        "X_train.fillna(0, inplace=True)  # Fill NaN values, adjust as needed\n",
        "y_train = y_train[X_train.index]  # Align target variable with features"
      ],
      "metadata": {
        "colab": {
          "base_uri": "https://localhost:8080/"
        },
        "id": "DO-C8bBTzv7S",
        "outputId": "f2472dad-4029-4c04-d520-b0e71d0676e7"
      },
      "execution_count": 50,
      "outputs": [
        {
          "output_type": "stream",
          "name": "stdout",
          "text": [
            "NaN values in training features: 0\n"
          ]
        }
      ]
    },
    {
      "cell_type": "code",
      "source": [
        "# Initialize and train a Random Forest Classifier with fewer estimators\n",
        "clf = RandomForestClassifier(n_estimators=5, max_depth=5, random_state=42, n_jobs=-1)\n",
        "try:\n",
        "    clf.fit(X_train, y_train)  # Fit the model\n",
        "except Exception as e:\n",
        "    print(f\"Error during model fitting: {e}\")"
      ],
      "metadata": {
        "id": "E9SjtzD32K9J"
      },
      "execution_count": 51,
      "outputs": []
    },
    {
      "cell_type": "code",
      "source": [
        "# Make predictions\n",
        "y_pred = clf.predict(X_test)"
      ],
      "metadata": {
        "id": "5eHFsyMezvv7"
      },
      "execution_count": 52,
      "outputs": []
    },
    {
      "cell_type": "code",
      "source": [
        "# Evaluate the model\n",
        "print(f'\\nAccuracy: {accuracy_score(y_test, y_pred)}')\n",
        "print(\"\\nConfusion Matrix:\")\n",
        "print(confusion_matrix(y_test, y_pred))\n",
        "print(\"\\nClassification Report:\")\n",
        "print(classification_report(y_test, y_pred))"
      ],
      "metadata": {
        "colab": {
          "base_uri": "https://localhost:8080/"
        },
        "id": "n6Pa1yluzvoy",
        "outputId": "8a814e7e-7452-4375-dcaa-0733d93f73d2"
      },
      "execution_count": 53,
      "outputs": [
        {
          "output_type": "stream",
          "name": "stdout",
          "text": [
            "\n",
            "Accuracy: 0.3335735735735736\n",
            "\n",
            "Confusion Matrix:\n",
            "[[2776    1    1]\n",
            " [2768    1    0]\n",
            " [2776    2    0]]\n",
            "\n",
            "Classification Report:\n",
            "              precision    recall  f1-score   support\n",
            "\n",
            "    Abnormal       0.33      1.00      0.50      2778\n",
            "Inconclusive       0.25      0.00      0.00      2769\n",
            "      Normal       0.00      0.00      0.00      2778\n",
            "\n",
            "    accuracy                           0.33      8325\n",
            "   macro avg       0.19      0.33      0.17      8325\n",
            "weighted avg       0.19      0.33      0.17      8325\n",
            "\n"
          ]
        }
      ]
    },
    {
      "cell_type": "markdown",
      "source": [],
      "metadata": {
        "id": "RUFSRHYvt_2C"
      }
    },
    {
      "cell_type": "code",
      "source": [
        "# Explanation:\n",
        "# In this step, we split our data into training and testing sets to evaluate model performance.\n",
        "# We use a Random Forest Classifier to train the model on the training set and then make\n",
        "# predictions on the test set. We evaluate the model's performance using accuracy, a confusion matrix,\n",
        "# and a classification report."
      ],
      "metadata": {
        "id": "lxTMiFnKqXs_"
      },
      "execution_count": 54,
      "outputs": []
    },
    {
      "cell_type": "code",
      "source": [
        "importances = clf.feature_importances_\n",
        "feature_names = X.columns\n",
        "\n",
        "\n",
        "# Create a DataFrame for visualization\n",
        "feature_importance_df = pd.DataFrame({'Feature': feature_names, 'Importance': importances})\n",
        "\n",
        "\n",
        "# Sort the DataFrame by importance\n",
        "feature_importance_df = feature_importance_df.sort_values(by='Importance', ascending=False)\n",
        "\n",
        "\n",
        "# Plot the feature importances\n",
        "plt.figure(figsize=(12, 6))\n",
        "plt.barh(feature_importance_df['Feature'], feature_importance_df['Importance'], color='skyblue')\n",
        "plt.xlabel('Importance')\n",
        "plt.title('Feature Importances from Random Forest')\n",
        "plt.gca().invert_yaxis()  # To display the highest importance at the top\n",
        "plt.show()\n"
      ],
      "metadata": {
        "id": "L4sIaDVipvlf"
      },
      "execution_count": null,
      "outputs": []
    },
    {
      "cell_type": "code",
      "source": [
        "# Explanation:\n",
        "# Finally, we assess the importance of each feature in predicting the outcome using the\n",
        "# Random Forest model. We extract and visualize the feature importances to understand\n",
        "# which variables have the most influence on the predictions."
      ],
      "metadata": {
        "id": "mJVp07ftqazu"
      },
      "execution_count": null,
      "outputs": []
    },
    {
      "cell_type": "code",
      "source": [
        "# Conclusion\n",
        "# Based on the analyses conducted:\n",
        "# Hypothesis 1: The logistic regression results indicated that age is not a significant predictor\n",
        "# of abnormal test outcomes (p-value > 0.05), suggesting that older patients are not more likely\n",
        "# to experience abnormal outcomes in this dataset.\n",
        "#\n",
        "# Hypothesis 2: The logistic regression on hospital stay duration also showed no significant\n",
        "# relationship with worse outcomes (p-value > 0.05). This implies that longer hospital stays\n",
        "# do not correlate with increased abnormal test results in this dataset.\n",
        "#\n",
        "# Hypothesis 3: The Chi-square test for medications indicated no significant association\n",
        "# with test outcomes (p-value > 0.05). Therefore, there is no evidence to support that specific\n",
        "# medications are linked to more positive test outcomes.\n",
        "#\n",
        "# Overall, the data analysis did not find strong support for any of the hypotheses.\n",
        "# Further investigation with a larger dataset or additional variables might be needed\n",
        "# to draw more conclusive insights into healthcare predictions."
      ],
      "metadata": {
        "id": "5e8n2IpMqbf7"
      },
      "execution_count": null,
      "outputs": []
    }
  ]
}